{
 "cells": [
  {
   "cell_type": "markdown",
   "metadata": {},
   "source": [
    "## IDEA\n",
    ">  [OpenWebUi Project GitHub](https://github.com/open-webui/open-webui)\n",
    "\n",
    "> docker run -d -p 3000:8080 -e OLLAMA_BASE_URL=http://walfred.local -v open-webui:/opt/docker-volumes/open-webui --name open-webui --restart always ghcr.io/open-webui/open-webui:main\n",
    "\n",
    "> SPACE\n",
    "\n",
    "## Call Example\n",
    "### Request Head\n",
    ">         myHeaders = {\n",
    ">         \"User-Agent\": f'ollama-python/({platform.machine()} {platform.system().lower()}) Python/{platform.python_version()}'\n",
    ">        , \"Accept\": 'application/json'\n",
    ">        , \"Accept-Encoding\": 'gzip, deflate'\n",
    ">        ,\"Content-Type\": 'application/json'\n",
    ">        ,'charset':'utf-8'\n",
    ">        }\n",
    "### OLLAMA:\n",
    ">        myUrl     = f'http://{HOST}/api/generate'\n",
    ">        data = {\n",
    ">            \"model\":  MODEL,\n",
    ">            \"prompt\": f\"Donne moi la definition simple de {self.w} en 20 mots en français.\",\n",
    ">            \"stream\": False\n",
    ">         }"
   ]
  }
 ],
 "metadata": {
  "language_info": {
   "name": "python"
  }
 },
 "nbformat": 4,
 "nbformat_minor": 2
}
